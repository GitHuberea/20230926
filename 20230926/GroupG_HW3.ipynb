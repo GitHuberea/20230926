{
  "nbformat": 4,
  "nbformat_minor": 0,
  "metadata": {
    "colab": {
      "provenance": []
    },
    "kernelspec": {
      "name": "python3",
      "display_name": "Python 3"
    },
    "language_info": {
      "name": "python"
    }
  },
  "cells": [
    {
      "cell_type": "code",
      "execution_count": null,
      "metadata": {
        "colab": {
          "base_uri": "https://localhost:8080/"
        },
        "id": "KNCFGuQlmk5c",
        "outputId": "5d7ed91f-ce3a-438e-fa68-4bfadf990205"
      },
      "outputs": [
        {
          "output_type": "stream",
          "name": "stdout",
          "text": [
            "I'm a student.\n"
          ]
        }
      ],
      "source": [
        "print(\"I'm a student.\")"
      ]
    },
    {
      "cell_type": "code",
      "source": [
        "x1=int(input(\"請輸入A點的x坐標：\"))\n",
        "y1=int(input(\"請輸入A點的y坐標：\"))\n",
        "x2=int(input(\"請輸入B點的x坐標：\"))\n",
        "y2=int(input(\"請輸入B點的y坐標：\"))\n",
        "print(((x1-x2)**2+(y1-y2)**2)**0.5)"
      ],
      "metadata": {
        "colab": {
          "base_uri": "https://localhost:8080/"
        },
        "id": "HsxI1MOJmwps",
        "outputId": "de616bac-ba22-4904-d9d0-c28ff7408bc7"
      },
      "execution_count": null,
      "outputs": [
        {
          "output_type": "stream",
          "name": "stdout",
          "text": [
            "請輸入A點的x坐標：3\n",
            "請輸入A點的y坐標：0\n",
            "請輸入B點的x坐標：0\n",
            "請輸入B點的y坐標：4\n",
            "5.0\n"
          ]
        }
      ]
    },
    {
      "cell_type": "code",
      "source": [
        "h=float(input(\"請輸入您的身高（公分）：\"))\n",
        "w=float(input(\"請輸入您的體重（公斤）：\"))\n",
        "w/=(h/100)**2\n",
        "print(\"您的BMI為\",w)\n",
        "print (int(w<18.5))\n"
      ],
      "metadata": {
        "id": "YfFRCUWtqEoF",
        "colab": {
          "base_uri": "https://localhost:8080/"
        },
        "outputId": "0f0feeb9-4ad9-4b2c-e0b3-7a9311bdd497"
      },
      "execution_count": 1,
      "outputs": [
        {
          "output_type": "stream",
          "name": "stdout",
          "text": [
            "請輸入您的身高（公分）：160\n",
            "請輸入您的體重（公斤）：50\n",
            "您的BMI為 19.531249999999996\n",
            "0\n"
          ]
        }
      ]
    }
  ]
}